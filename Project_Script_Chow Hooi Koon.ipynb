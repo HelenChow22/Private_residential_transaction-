{
 "cells": [
  {
   "cell_type": "markdown",
   "metadata": {},
   "source": [
    "# Final Project 102 & 104\n",
    "### Student name: Chow Hooi Koon"
   ]
  },
  {
   "cell_type": "markdown",
   "metadata": {},
   "source": [
    "# Project: Private Residential Property Transaction in Singapore"
   ]
  },
  {
   "cell_type": "markdown",
   "metadata": {},
   "source": [
    "This project will show the transactions of private residential property transaction in Singapore from a predetermined range of dates, giving clear insights into some of the important aspect in terms of prices, dates purchase, district etc.\n",
    "\n",
    "### Dataset resource\n",
    "I will be using dataset from the open sources of URA website namely from: \n",
    "https://www.ura.gov.sg/realEstateIIWeb/transaction/search.action\n",
    "https://www.ura.gov.sg/maps/api/#private-residential-property-transactions\n",
    "\n",
    "### From data, we will have the:\n",
    "Project name of the property – a very specific attribute on the location, could be a specification on outliers, e.g. an ultra-expensive project compared to its peers in the same postal district. \n",
    "\n",
    "Street name – a broader look on the project, can be used to gauge for an expensive street among the postal districts. \n",
    "\n",
    "Type of property – important classification among condominiums, apartment, EC etc \n",
    "\n",
    "Postal District – an important criterion on location which determine prices. \n",
    "\n",
    "Type of sale (New/Sub or Resale) – helps to categorise according to market demands. \n",
    "\n",
    "Market Segment (CCR/RCR/OCR) – an even broader terms on location use for a quick broad view of the different Segment for quick analysis on the market demand. \n",
    "\n",
    "Tenure of the property – freehold or 99 years. \n",
    "\n",
    "Number of units – Total how many unit was sold. \n",
    "\n",
    "Price of transaction – the sold of the property. \n",
    "\n",
    "Area (Sqft) – Area of the property which helps to make sense of the price of transaction. \n",
    "\n",
    "Type of area – Strata, Landed, Strata-landed. \n",
    "\n",
    "Floor level – another small criterion on the property pricing where higher level usually meant a higher price.  \n",
    "\n",
    "Unit price (PSF) – an important criterion on pricing which is more suitable as a mean of comparison among the properties. \n",
    "\n",
    "Date of sale – can be used to read trend of the market.\n",
    "\n"
   ]
  },
  {
   "cell_type": "markdown",
   "metadata": {},
   "source": [
    "## What is CCR, RCR and OCR?\n",
    "The Urban Redevelopment Authority (URA) has divided Singapore into three main regions, which the URA calls \"market segments\".\n",
    "\n",
    "These regions are: Core Central Region (CCR), Rest of Central Region (RCR) and the Outside Central Region (OCR).\n",
    "\n",
    "Core Central Region (CCR): postal district 9,10,11 and parts of 1,2,4,6,7 \\\n",
    "Rest of Central Region (RCR): postal district 3,8,12 and parts of 1,2,4,5,6,7,13,14,15 and 20. \\\n",
    "Outside Central Region (OCR): postal district 16 to 19,22,23,25 to 28 and parts of 5,14,15 and 20.\n"
   ]
  },
  {
   "cell_type": "markdown",
   "metadata": {},
   "source": [
    "### Data clarification\n",
    "I filtered data from URA as below: \\\n",
    "CCR - 3 postal district of 9, 10 and 11. \\\n",
    "RCR - 3 postal district of 3, 8 and 12. \\\n",
    "OCR - 3 postal district of 16, 17 and 18. \\\n",
    "\n",
    "### District area\n",
    "District 9  - Orchard, Somerset, River Valley. \\\n",
    "District 10 - Tanglin, Bukit Timah, Holland. \\\n",
    "District 11 - Newton, Novena, Duearn, Wattern. \\\n",
    "District 3  - Queenstown, Alexandra, Tiong Bahru. \\\n",
    "District 8  - Little India, Ferrer Park. \\\n",
    "District 12 - Balestier, Whampoa, Toa Payoh, Boon Keng, Bendemeer, Kampong Bugis. \\\n",
    "District 16 - Bedok, Upper East Coast, Bayshore, Tanah Merah, Upper Changi. \\\n",
    "District 17 - Flora Drive, Loyang, Changi. \\\n",
    "District 18 - Tampines, Pasir Ris.\n",
    "\n",
    "### Data period\n",
    "It shows latest 60 months transaction. \n",
    "\n",
    "### Building type\n",
    "Focus in apartments and condominiums only.\n",
    "\n",
    "### Transaction\n",
    "Transaction included new sale, resale and subsale."
   ]
  },
  {
   "cell_type": "markdown",
   "metadata": {},
   "source": [
    "## Data understanding and exploration"
   ]
  },
  {
   "cell_type": "code",
   "execution_count": 1,
   "metadata": {},
   "outputs": [],
   "source": [
    "import pandas as pd\n",
    "import matplotlib.pyplot as plt\n",
    "%matplotlib inline\n",
    "import re\n",
    "import seaborn as sns\n",
    "import numpy as np"
   ]
  },
  {
   "cell_type": "code",
   "execution_count": 2,
   "metadata": {},
   "outputs": [],
   "source": [
    "# df_ccr is data of apartment & condominium that forcus on core central region, district 9,10 & 11.\n",
    "df_ccr = pd.read_csv('private-residential-property-transaction-CCR-dist-9-10-11.csv')\n",
    "\n",
    "# df_rcr is data of apartment & condominium that forcus on rest of central region, district 3,8 & 12.\n",
    "df_rcr = pd.read_csv('private-residential-property-transaction-RCR-dist-3-8-12.csv')\n",
    "\n",
    "# df_ocr is data of apartment & condominium that forcus on outside central region, district 16,17 & 18.\n",
    "df_ocr = pd.read_csv('private-residential-property-transaction-OCR-dist-16-17-18.csv')"
   ]
  },
  {
   "cell_type": "code",
   "execution_count": 3,
   "metadata": {},
   "outputs": [],
   "source": [
    "# combine data\n",
    "df_combine = pd.concat([df_ccr, df_rcr, df_ocr], axis = 0)"
   ]
  },
  {
   "cell_type": "code",
   "execution_count": 4,
   "metadata": {},
   "outputs": [
    {
     "data": {
      "text/plain": [
       "project_name       0\n",
       "street_name        0\n",
       "type               0\n",
       "postal_district    0\n",
       "market_segment     0\n",
       "tenure             0\n",
       "type_of_sale       0\n",
       "no_of_units        0\n",
       "price_in_sgd       0\n",
       "nett_price         0\n",
       "area_sqft          0\n",
       "type_of_area       0\n",
       "floor_level        0\n",
       "unit_price_psf     0\n",
       "date_of_sale       0\n",
       "dtype: int64"
      ]
     },
     "execution_count": 4,
     "metadata": {},
     "output_type": "execute_result"
    }
   ],
   "source": [
    "# check for null value in data and details\n",
    "df_combine.isnull().sum()"
   ]
  },
  {
   "cell_type": "code",
   "execution_count": 5,
   "metadata": {},
   "outputs": [
    {
     "name": "stdout",
     "output_type": "stream",
     "text": [
      "<class 'pandas.core.frame.DataFrame'>\n",
      "Int64Index: 35622 entries, 0 to 11684\n",
      "Data columns (total 15 columns):\n",
      " #   Column           Non-Null Count  Dtype \n",
      "---  ------           --------------  ----- \n",
      " 0   project_name     35622 non-null  object\n",
      " 1   street_name      35622 non-null  object\n",
      " 2   type             35622 non-null  object\n",
      " 3   postal_district  35622 non-null  int64 \n",
      " 4   market_segment   35622 non-null  object\n",
      " 5   tenure           35622 non-null  object\n",
      " 6   type_of_sale     35622 non-null  object\n",
      " 7   no_of_units      35622 non-null  int64 \n",
      " 8   price_in_sgd     35622 non-null  int64 \n",
      " 9   nett_price       35622 non-null  object\n",
      " 10  area_sqft        35622 non-null  int64 \n",
      " 11  type_of_area     35622 non-null  object\n",
      " 12  floor_level      35622 non-null  object\n",
      " 13  unit_price_psf   35622 non-null  int64 \n",
      " 14  date_of_sale     35622 non-null  object\n",
      "dtypes: int64(5), object(10)\n",
      "memory usage: 4.3+ MB\n"
     ]
    }
   ],
   "source": [
    "# check type of data and quantity\n",
    "df_combine.info()"
   ]
  },
  {
   "cell_type": "code",
   "execution_count": 6,
   "metadata": {},
   "outputs": [
    {
     "data": {
      "text/html": [
       "<div>\n",
       "<style scoped>\n",
       "    .dataframe tbody tr th:only-of-type {\n",
       "        vertical-align: middle;\n",
       "    }\n",
       "\n",
       "    .dataframe tbody tr th {\n",
       "        vertical-align: top;\n",
       "    }\n",
       "\n",
       "    .dataframe thead th {\n",
       "        text-align: right;\n",
       "    }\n",
       "</style>\n",
       "<table border=\"1\" class=\"dataframe\">\n",
       "  <thead>\n",
       "    <tr style=\"text-align: right;\">\n",
       "      <th></th>\n",
       "      <th>postal_district</th>\n",
       "      <th>no_of_units</th>\n",
       "      <th>price_in_sgd</th>\n",
       "      <th>area_sqft</th>\n",
       "      <th>unit_price_psf</th>\n",
       "    </tr>\n",
       "  </thead>\n",
       "  <tbody>\n",
       "    <tr>\n",
       "      <th>count</th>\n",
       "      <td>35622.000000</td>\n",
       "      <td>35622.000000</td>\n",
       "      <td>3.562200e+04</td>\n",
       "      <td>35622.000000</td>\n",
       "      <td>35622.000000</td>\n",
       "    </tr>\n",
       "    <tr>\n",
       "      <th>mean</th>\n",
       "      <td>11.045449</td>\n",
       "      <td>1.080007</td>\n",
       "      <td>2.103473e+06</td>\n",
       "      <td>1257.557829</td>\n",
       "      <td>1637.997389</td>\n",
       "    </tr>\n",
       "    <tr>\n",
       "      <th>std</th>\n",
       "      <td>5.139964</td>\n",
       "      <td>4.160517</td>\n",
       "      <td>1.168296e+07</td>\n",
       "      <td>7098.359864</td>\n",
       "      <td>603.697853</td>\n",
       "    </tr>\n",
       "    <tr>\n",
       "      <th>min</th>\n",
       "      <td>3.000000</td>\n",
       "      <td>1.000000</td>\n",
       "      <td>2.880000e+05</td>\n",
       "      <td>323.000000</td>\n",
       "      <td>237.000000</td>\n",
       "    </tr>\n",
       "    <tr>\n",
       "      <th>25%</th>\n",
       "      <td>9.000000</td>\n",
       "      <td>1.000000</td>\n",
       "      <td>1.010175e+06</td>\n",
       "      <td>678.000000</td>\n",
       "      <td>1218.000000</td>\n",
       "    </tr>\n",
       "    <tr>\n",
       "      <th>50%</th>\n",
       "      <td>10.000000</td>\n",
       "      <td>1.000000</td>\n",
       "      <td>1.398000e+06</td>\n",
       "      <td>980.000000</td>\n",
       "      <td>1539.000000</td>\n",
       "    </tr>\n",
       "    <tr>\n",
       "      <th>75%</th>\n",
       "      <td>16.000000</td>\n",
       "      <td>1.000000</td>\n",
       "      <td>2.000000e+06</td>\n",
       "      <td>1324.000000</td>\n",
       "      <td>1940.000000</td>\n",
       "    </tr>\n",
       "    <tr>\n",
       "      <th>max</th>\n",
       "      <td>18.000000</td>\n",
       "      <td>560.000000</td>\n",
       "      <td>9.800000e+08</td>\n",
       "      <td>947081.000000</td>\n",
       "      <td>5125.000000</td>\n",
       "    </tr>\n",
       "  </tbody>\n",
       "</table>\n",
       "</div>"
      ],
      "text/plain": [
       "       postal_district   no_of_units  price_in_sgd      area_sqft  \\\n",
       "count     35622.000000  35622.000000  3.562200e+04   35622.000000   \n",
       "mean         11.045449      1.080007  2.103473e+06    1257.557829   \n",
       "std           5.139964      4.160517  1.168296e+07    7098.359864   \n",
       "min           3.000000      1.000000  2.880000e+05     323.000000   \n",
       "25%           9.000000      1.000000  1.010175e+06     678.000000   \n",
       "50%          10.000000      1.000000  1.398000e+06     980.000000   \n",
       "75%          16.000000      1.000000  2.000000e+06    1324.000000   \n",
       "max          18.000000    560.000000  9.800000e+08  947081.000000   \n",
       "\n",
       "       unit_price_psf  \n",
       "count    35622.000000  \n",
       "mean      1637.997389  \n",
       "std        603.697853  \n",
       "min        237.000000  \n",
       "25%       1218.000000  \n",
       "50%       1539.000000  \n",
       "75%       1940.000000  \n",
       "max       5125.000000  "
      ]
     },
     "metadata": {},
     "output_type": "display_data"
    }
   ],
   "source": [
    "# overview of the basic stats for the dataframe\n",
    "display(df_combine.describe())"
   ]
  },
  {
   "cell_type": "markdown",
   "metadata": {},
   "source": [
    "## 1. Transaction units between market segment"
   ]
  },
  {
   "cell_type": "code",
   "execution_count": 7,
   "metadata": {},
   "outputs": [],
   "source": [
    "t_combine = df_combine.loc[:,['date_of_sale','market_segment']]\n",
    "t_combine = t_combine.groupby('market_segment').count()"
   ]
  },
  {
   "cell_type": "code",
   "execution_count": 8,
   "metadata": {},
   "outputs": [
    {
     "data": {
      "image/png": "[encoded data removed]",
      "text/plain": [
       "<Figure size 432x288 with 1 Axes>"
      ]
     },
     "metadata": {
      "needs_background": "light"
     },
     "output_type": "display_data"
    }
   ],
   "source": [
    "t_combine.plot(kind = 'barh')\n",
    "plt.xlabel('Number of Units')\n",
    "plt.ylabel('Market Segment')\n",
    "plt.title('Transaction Units between Market Segment')\n",
    "plt.legend('Unit of transaction')\n",
    "plt.show()"
   ]
  },
  {
   "cell_type": "markdown",
   "metadata": {},
   "source": [
    "From above chart, we noticed that CCR has the highest transaction among 3 market segments. \n",
    "This may because of the investors prefer to invest in CCR area. \\\n",
    "OCR transaction is higher that RCR, the reason maybe because of government and property companies focus to develope the land of OCR. "
   ]
  },
  {
   "cell_type": "markdown",
   "metadata": {},
   "source": [
    "## 2. Growth of sales\n",
    "Growth of sales among the market segments in the past 5 years."
   ]
  },
  {
   "cell_type": "code",
   "execution_count": 9,
   "metadata": {},
   "outputs": [],
   "source": [
    "x = df_combine\n",
    "x.date_of_sale = pd.to_datetime(x['date_of_sale'],format='%b-%y')\n",
    "x['date_of_sale'] = x.date_of_sale.dt.year\n",
    "x = x.groupby(['date_of_sale','postal_district']).mean()\n",
    "x = x.reset_index()"
   ]
  },
  {
   "cell_type": "code",
   "execution_count": 10,
   "metadata": {
    "scrolled": false
   },
   "outputs": [
    {
     "data": {
      "image/png": "[encoded data removed]",
      "text/plain": [
       "<Figure size 720x504 with 1 Axes>"
      ]
     },
     "metadata": {
      "needs_background": "light"
     },
     "output_type": "display_data"
    }
   ],
   "source": [
    "plt.figure(figsize=(10,7))\n",
    "for col_val in x['postal_district'].unique():\n",
    "    filter_df = x[x['postal_district'] == col_val]\n",
    "    plt.bar(filter_df['date_of_sale'], filter_df['price_in_sgd'], label = col_val)\n",
    "plt.xlabel('Year of Sale')\n",
    "plt.ylabel('Average Transaction Price')\n",
    "plt.title('Sales Transaction')\n",
    "plt.legend()\n",
    "plt.show()"
   ]
  },
  {
   "cell_type": "markdown",
   "metadata": {},
   "source": [
    "From the chart above, it shows district 11 has the highest average growth of transaction price in 2018."
   ]
  },
  {
   "cell_type": "markdown",
   "metadata": {},
   "source": [
    "## 3. Floor area vs transaction price\n",
    "The relationship between floor area (sqft) and transaction price in 3 different market segment."
   ]
  },
  {
   "cell_type": "code",
   "execution_count": 11,
   "metadata": {},
   "outputs": [
    {
     "data": {
      "text/plain": [
       "<seaborn.axisgrid.FacetGrid at 0x1dca036cf70>"
      ]
     },
     "execution_count": 11,
     "metadata": {},
     "output_type": "execute_result"
    },
    {
     "data": {
      "image/png": "[encoded data removed]",
      "text/plain": [
       "<Figure size 360x1080 with 3 Axes>"
      ]
     },
     "metadata": {
      "needs_background": "light"
     },
     "output_type": "display_data"
    }
   ],
   "source": [
    "sns.lmplot(x='area_sqft', y='price_in_sgd', data=df_combine, row='market_segment')"
   ]
  },
  {
   "cell_type": "markdown",
   "metadata": {},
   "source": [
    "## 4. Floor area PSF vs transaction price \n",
    "The changes of price PSF (per sqft) in 3 market segments."
   ]
  },
  {
   "cell_type": "code",
   "execution_count": 12,
   "metadata": {},
   "outputs": [],
   "source": [
    "df = df_combine.loc[df_combine['tenure'] == 'Freehold']\n",
    "df = df.loc[:,['date_of_sale' , 'market_segment','unit_price_psf']]\n",
    "df = df.groupby(['date_of_sale','market_segment']).mean()\n",
    "df = df.reset_index()"
   ]
  },
  {
   "cell_type": "code",
   "execution_count": 13,
   "metadata": {},
   "outputs": [
    {
     "data": {
      "image/png": "[encoded data removed]",
      "text/plain": [
       "<Figure size 432x288 with 1 Axes>"
      ]
     },
     "metadata": {
      "needs_background": "light"
     },
     "output_type": "display_data"
    }
   ],
   "source": [
    "for col_val in df['market_segment'].unique(): \n",
    "    filter_df = df[df['market_segment'] == col_val]\n",
    "    plt.plot(filter_df['date_of_sale'], filter_df['unit_price_psf'], label = col_val)\n",
    "    plt.xlabel('Year')\n",
    "    plt.ylabel('Unit Price PSF')\n",
    "    plt.title('PSF Changes between Market Segment')\n",
    "    plt.legend()"
   ]
  },
  {
   "cell_type": "markdown",
   "metadata": {},
   "source": [
    "CCR has the highest PSF among 3 market segments. \\\n",
    "OCR has significant grow in PSF from 2017 to 2019."
   ]
  },
  {
   "cell_type": "markdown",
   "metadata": {},
   "source": [
    "## 5. Average transaction price within CCR\n",
    "Average transaction price within district 9, 10 and 11."
   ]
  },
  {
   "cell_type": "code",
   "execution_count": 14,
   "metadata": {
    "scrolled": true
   },
   "outputs": [
    {
     "data": {
      "text/plain": [
       "[Text(0, 0, '9'), Text(1, 0, '10'), Text(2, 0, '11')]"
      ]
     },
     "execution_count": 14,
     "metadata": {},
     "output_type": "execute_result"
    },
    {
     "data": {
      "image/png": "[encoded data removed]",
      "text/plain": [
       "<Figure size 432x288 with 1 Axes>"
      ]
     },
     "metadata": {
      "needs_background": "light"
     },
     "output_type": "display_data"
    }
   ],
   "source": [
    "district = sns.barplot(x = 'postal_district', y = 'price_in_sgd', data = df_ccr, estimator = np.mean)\n",
    "district.set_xticklabels(district.get_xticklabels(), rotation = 50)"
   ]
  },
  {
   "cell_type": "markdown",
   "metadata": {},
   "source": [
    "District 10 has the highest average transaction price due to sales of a lot of good class bungalows from the data details. "
   ]
  },
  {
   "cell_type": "markdown",
   "metadata": {},
   "source": [
    "## 6. The relationship between floor level and transaction price within CCR.\n",
    "The price changes of floor level within district 9, 10 and 11."
   ]
  },
  {
   "cell_type": "code",
   "execution_count": 15,
   "metadata": {},
   "outputs": [],
   "source": [
    "ccr_floor = df_ccr.loc[:,['floor_level','price_in_sgd']]\n",
    "ccr_floor = ccr_floor.groupby(['floor_level']).mean()\n",
    "ccr_floor = ccr_floor.reindex(np.roll(ccr_floor.index, shift=1))\n",
    "ccr_floor = ccr_floor.reset_index()"
   ]
  },
  {
   "cell_type": "code",
   "execution_count": 16,
   "metadata": {},
   "outputs": [],
   "source": [
    "ccr_floor_area = df_ccr.loc[:,['floor_level','unit_price_psf']]\n",
    "ccr_floor_area = ccr_floor_area.groupby(['floor_level']).mean()\n",
    "ccr_floor_area = ccr_floor_area.reindex(np.roll(ccr_floor_area.index, shift=1))\n",
    "ccr_floor_area = ccr_floor_area.reset_index()"
   ]
  },
  {
   "cell_type": "code",
   "execution_count": 17,
   "metadata": {},
   "outputs": [
    {
     "data": {
      "image/png": "[encoded data removed]",
      "text/plain": [
       "<Figure size 432x288 with 2 Axes>"
      ]
     },
     "metadata": {
      "needs_background": "light"
     },
     "output_type": "display_data"
    }
   ],
   "source": [
    "fig, (ax1, ax2) = plt.subplots(2)\n",
    "ax1.plot('floor_level','price_in_sgd', data = ccr_floor)\n",
    "fig.suptitle('Floor Level vs Transaction Price in CCR')\n",
    "ax2.plot('floor_level','unit_price_psf', data = ccr_floor_area)\n",
    "plt.title('Floor Level vs Area PSF in CCR')\n",
    "fig.autofmt_xdate()\n",
    "plt.show()"
   ]
  },
  {
   "cell_type": "markdown",
   "metadata": {},
   "source": [
    "Floor level does affect transaction price.\n",
    "With higher floor, the transaction price becomes more expensive.\n",
    "It also relate to higher PSF.\n",
    "\n",
    "From the chart, it shows the ground floor level has the higher  average transaction price but lower price in PSF, it may because of usually the apartment or condo in ground floor has patio/countyard."
   ]
  },
  {
   "cell_type": "markdown",
   "metadata": {},
   "source": [
    "## 7. Which project has the highest and lowest transaction price in CCR?\n",
    "The highest and lowest transaction price in district 9, 10 and 11."
   ]
  },
  {
   "cell_type": "code",
   "execution_count": 18,
   "metadata": {
    "scrolled": false
   },
   "outputs": [
    {
     "data": {
      "text/html": [
       "<div>\n",
       "<style scoped>\n",
       "    .dataframe tbody tr th:only-of-type {\n",
       "        vertical-align: middle;\n",
       "    }\n",
       "\n",
       "    .dataframe tbody tr th {\n",
       "        vertical-align: top;\n",
       "    }\n",
       "\n",
       "    .dataframe thead th {\n",
       "        text-align: right;\n",
       "    }\n",
       "</style>\n",
       "<table border=\"1\" class=\"dataframe\">\n",
       "  <thead>\n",
       "    <tr style=\"text-align: right;\">\n",
       "      <th></th>\n",
       "      <th>project_name</th>\n",
       "      <th>street_name</th>\n",
       "      <th>type</th>\n",
       "      <th>postal_district</th>\n",
       "      <th>market_segment</th>\n",
       "      <th>tenure</th>\n",
       "      <th>type_of_sale</th>\n",
       "      <th>no_of_units</th>\n",
       "      <th>price_in_sgd</th>\n",
       "      <th>nett_price</th>\n",
       "      <th>area_sqft</th>\n",
       "      <th>type_of_area</th>\n",
       "      <th>floor_level</th>\n",
       "      <th>unit_price_psf</th>\n",
       "      <th>date_of_sale</th>\n",
       "    </tr>\n",
       "  </thead>\n",
       "  <tbody>\n",
       "    <tr>\n",
       "      <th>6608</th>\n",
       "      <td>PACIFIC MANSION</td>\n",
       "      <td>RIVER VALLEY CLOSE</td>\n",
       "      <td>Apartment</td>\n",
       "      <td>9</td>\n",
       "      <td>CCR</td>\n",
       "      <td>Freehold</td>\n",
       "      <td>Resale</td>\n",
       "      <td>290</td>\n",
       "      <td>980000000</td>\n",
       "      <td>-</td>\n",
       "      <td>416750</td>\n",
       "      <td>Strata</td>\n",
       "      <td>11 to 15</td>\n",
       "      <td>2352</td>\n",
       "      <td>Mar-18</td>\n",
       "    </tr>\n",
       "    <tr>\n",
       "      <th>6406</th>\n",
       "      <td>TULIP GARDEN</td>\n",
       "      <td>FARRER ROAD</td>\n",
       "      <td>Condominium</td>\n",
       "      <td>10</td>\n",
       "      <td>CCR</td>\n",
       "      <td>Freehold</td>\n",
       "      <td>Resale</td>\n",
       "      <td>164</td>\n",
       "      <td>906889000</td>\n",
       "      <td>-</td>\n",
       "      <td>382919</td>\n",
       "      <td>Strata</td>\n",
       "      <td>01 to 05</td>\n",
       "      <td>2368</td>\n",
       "      <td>Apr-18</td>\n",
       "    </tr>\n",
       "    <tr>\n",
       "      <th>7444</th>\n",
       "      <td>ROYALVILLE</td>\n",
       "      <td>BUKIT TIMAH ROAD</td>\n",
       "      <td>Condominium</td>\n",
       "      <td>10</td>\n",
       "      <td>CCR</td>\n",
       "      <td>Freehold</td>\n",
       "      <td>Resale</td>\n",
       "      <td>104</td>\n",
       "      <td>477940000</td>\n",
       "      <td>-</td>\n",
       "      <td>154991</td>\n",
       "      <td>Strata</td>\n",
       "      <td>01 to 05</td>\n",
       "      <td>3084</td>\n",
       "      <td>Dec-17</td>\n",
       "    </tr>\n",
       "    <tr>\n",
       "      <th>6343</th>\n",
       "      <td>DUNEARN GARDENS</td>\n",
       "      <td>DUNEARN ROAD</td>\n",
       "      <td>Condominium</td>\n",
       "      <td>11</td>\n",
       "      <td>CCR</td>\n",
       "      <td>Freehold</td>\n",
       "      <td>Resale</td>\n",
       "      <td>114</td>\n",
       "      <td>468000000</td>\n",
       "      <td>-</td>\n",
       "      <td>156971</td>\n",
       "      <td>Strata</td>\n",
       "      <td>16 to 20</td>\n",
       "      <td>2981</td>\n",
       "      <td>Apr-18</td>\n",
       "    </tr>\n",
       "    <tr>\n",
       "      <th>6946</th>\n",
       "      <td>CITY TOWERS</td>\n",
       "      <td>BUKIT TIMAH ROAD</td>\n",
       "      <td>Apartment</td>\n",
       "      <td>10</td>\n",
       "      <td>CCR</td>\n",
       "      <td>Freehold</td>\n",
       "      <td>Resale</td>\n",
       "      <td>79</td>\n",
       "      <td>401933798</td>\n",
       "      <td>-</td>\n",
       "      <td>162719</td>\n",
       "      <td>Strata</td>\n",
       "      <td>01 to 05</td>\n",
       "      <td>2470</td>\n",
       "      <td>Feb-18</td>\n",
       "    </tr>\n",
       "  </tbody>\n",
       "</table>\n",
       "</div>"
      ],
      "text/plain": [
       "         project_name         street_name         type  postal_district  \\\n",
       "6608  PACIFIC MANSION  RIVER VALLEY CLOSE    Apartment                9   \n",
       "6406     TULIP GARDEN         FARRER ROAD  Condominium               10   \n",
       "7444       ROYALVILLE    BUKIT TIMAH ROAD  Condominium               10   \n",
       "6343  DUNEARN GARDENS        DUNEARN ROAD  Condominium               11   \n",
       "6946      CITY TOWERS    BUKIT TIMAH ROAD    Apartment               10   \n",
       "\n",
       "     market_segment    tenure type_of_sale  no_of_units  price_in_sgd  \\\n",
       "6608            CCR  Freehold       Resale          290     980000000   \n",
       "6406            CCR  Freehold       Resale          164     906889000   \n",
       "7444            CCR  Freehold       Resale          104     477940000   \n",
       "6343            CCR  Freehold       Resale          114     468000000   \n",
       "6946            CCR  Freehold       Resale           79     401933798   \n",
       "\n",
       "     nett_price  area_sqft type_of_area floor_level  unit_price_psf  \\\n",
       "6608          -     416750       Strata    11 to 15            2352   \n",
       "6406          -     382919       Strata    01 to 05            2368   \n",
       "7444          -     154991       Strata    01 to 05            3084   \n",
       "6343          -     156971       Strata    16 to 20            2981   \n",
       "6946          -     162719       Strata    01 to 05            2470   \n",
       "\n",
       "     date_of_sale  \n",
       "6608       Mar-18  \n",
       "6406       Apr-18  \n",
       "7444       Dec-17  \n",
       "6343       Apr-18  \n",
       "6946       Feb-18  "
      ]
     },
     "metadata": {},
     "output_type": "display_data"
    },
    {
     "data": {
      "text/html": [
       "<div>\n",
       "<style scoped>\n",
       "    .dataframe tbody tr th:only-of-type {\n",
       "        vertical-align: middle;\n",
       "    }\n",
       "\n",
       "    .dataframe tbody tr th {\n",
       "        vertical-align: top;\n",
       "    }\n",
       "\n",
       "    .dataframe thead th {\n",
       "        text-align: right;\n",
       "    }\n",
       "</style>\n",
       "<table border=\"1\" class=\"dataframe\">\n",
       "  <thead>\n",
       "    <tr style=\"text-align: right;\">\n",
       "      <th></th>\n",
       "      <th>project_name</th>\n",
       "      <th>street_name</th>\n",
       "      <th>type</th>\n",
       "      <th>postal_district</th>\n",
       "      <th>market_segment</th>\n",
       "      <th>tenure</th>\n",
       "      <th>type_of_sale</th>\n",
       "      <th>no_of_units</th>\n",
       "      <th>price_in_sgd</th>\n",
       "      <th>nett_price</th>\n",
       "      <th>area_sqft</th>\n",
       "      <th>type_of_area</th>\n",
       "      <th>floor_level</th>\n",
       "      <th>unit_price_psf</th>\n",
       "      <th>date_of_sale</th>\n",
       "    </tr>\n",
       "  </thead>\n",
       "  <tbody>\n",
       "    <tr>\n",
       "      <th>3469</th>\n",
       "      <td>SUITES @ SHREWSBURY</td>\n",
       "      <td>SHREWSBURY ROAD</td>\n",
       "      <td>Apartment</td>\n",
       "      <td>11</td>\n",
       "      <td>CCR</td>\n",
       "      <td>Freehold</td>\n",
       "      <td>Resale</td>\n",
       "      <td>1</td>\n",
       "      <td>550000</td>\n",
       "      <td>-</td>\n",
       "      <td>334</td>\n",
       "      <td>Strata</td>\n",
       "      <td>01 to 05</td>\n",
       "      <td>1648</td>\n",
       "      <td>Aug-19</td>\n",
       "    </tr>\n",
       "    <tr>\n",
       "      <th>4041</th>\n",
       "      <td>SUITES @ SHREWSBURY</td>\n",
       "      <td>SHREWSBURY ROAD</td>\n",
       "      <td>Apartment</td>\n",
       "      <td>11</td>\n",
       "      <td>CCR</td>\n",
       "      <td>Freehold</td>\n",
       "      <td>Resale</td>\n",
       "      <td>1</td>\n",
       "      <td>555000</td>\n",
       "      <td>-</td>\n",
       "      <td>366</td>\n",
       "      <td>Strata</td>\n",
       "      <td>01 to 05</td>\n",
       "      <td>1516</td>\n",
       "      <td>May-19</td>\n",
       "    </tr>\n",
       "    <tr>\n",
       "      <th>7688</th>\n",
       "      <td>HILLCREST ARCADIA</td>\n",
       "      <td>ARCADIA ROAD</td>\n",
       "      <td>Condominium</td>\n",
       "      <td>11</td>\n",
       "      <td>CCR</td>\n",
       "      <td>99 yrs lease commencing from 1975</td>\n",
       "      <td>Resale</td>\n",
       "      <td>1</td>\n",
       "      <td>560088</td>\n",
       "      <td>-</td>\n",
       "      <td>581</td>\n",
       "      <td>Strata</td>\n",
       "      <td>01 to 05</td>\n",
       "      <td>964</td>\n",
       "      <td>Nov-17</td>\n",
       "    </tr>\n",
       "    <tr>\n",
       "      <th>803</th>\n",
       "      <td>SUITES @ SHREWSBURY</td>\n",
       "      <td>SHREWSBURY ROAD</td>\n",
       "      <td>Apartment</td>\n",
       "      <td>11</td>\n",
       "      <td>CCR</td>\n",
       "      <td>Freehold</td>\n",
       "      <td>Resale</td>\n",
       "      <td>1</td>\n",
       "      <td>565000</td>\n",
       "      <td>-</td>\n",
       "      <td>344</td>\n",
       "      <td>Strata</td>\n",
       "      <td>01 to 05</td>\n",
       "      <td>1640</td>\n",
       "      <td>Nov-20</td>\n",
       "    </tr>\n",
       "    <tr>\n",
       "      <th>228</th>\n",
       "      <td>SUITES @ SHREWSBURY</td>\n",
       "      <td>SHREWSBURY ROAD</td>\n",
       "      <td>Apartment</td>\n",
       "      <td>11</td>\n",
       "      <td>CCR</td>\n",
       "      <td>Freehold</td>\n",
       "      <td>Resale</td>\n",
       "      <td>1</td>\n",
       "      <td>579000</td>\n",
       "      <td>-</td>\n",
       "      <td>334</td>\n",
       "      <td>Strata</td>\n",
       "      <td>01 to 05</td>\n",
       "      <td>1735</td>\n",
       "      <td>Jan-21</td>\n",
       "    </tr>\n",
       "  </tbody>\n",
       "</table>\n",
       "</div>"
      ],
      "text/plain": [
       "             project_name      street_name         type  postal_district  \\\n",
       "3469  SUITES @ SHREWSBURY  SHREWSBURY ROAD    Apartment               11   \n",
       "4041  SUITES @ SHREWSBURY  SHREWSBURY ROAD    Apartment               11   \n",
       "7688    HILLCREST ARCADIA     ARCADIA ROAD  Condominium               11   \n",
       "803   SUITES @ SHREWSBURY  SHREWSBURY ROAD    Apartment               11   \n",
       "228   SUITES @ SHREWSBURY  SHREWSBURY ROAD    Apartment               11   \n",
       "\n",
       "     market_segment                             tenure type_of_sale  \\\n",
       "3469            CCR                           Freehold       Resale   \n",
       "4041            CCR                           Freehold       Resale   \n",
       "7688            CCR  99 yrs lease commencing from 1975       Resale   \n",
       "803             CCR                           Freehold       Resale   \n",
       "228             CCR                           Freehold       Resale   \n",
       "\n",
       "      no_of_units  price_in_sgd nett_price  area_sqft type_of_area  \\\n",
       "3469            1        550000          -        334       Strata   \n",
       "4041            1        555000          -        366       Strata   \n",
       "7688            1        560088          -        581       Strata   \n",
       "803             1        565000          -        344       Strata   \n",
       "228             1        579000          -        334       Strata   \n",
       "\n",
       "     floor_level  unit_price_psf date_of_sale  \n",
       "3469    01 to 05            1648       Aug-19  \n",
       "4041    01 to 05            1516       May-19  \n",
       "7688    01 to 05             964       Nov-17  \n",
       "803     01 to 05            1640       Nov-20  \n",
       "228     01 to 05            1735       Jan-21  "
      ]
     },
     "metadata": {},
     "output_type": "display_data"
    }
   ],
   "source": [
    "highest_price = df_ccr.price_in_sgd.nlargest(5)\n",
    "highest_price = df_ccr.loc[highest_price.index,:]\n",
    "lowest_price = df_ccr.price_in_sgd.nsmallest(5)\n",
    "lowest_price = df_ccr.loc[lowest_price.index,:]\n",
    "display(highest_price, lowest_price)"
   ]
  },
  {
   "cell_type": "markdown",
   "metadata": {},
   "source": [
    "## 8. Which project the highest and lowest PSF in CCR?\n",
    "The highest and lowest transaction PSF in district 9, 10 and 11."
   ]
  },
  {
   "cell_type": "code",
   "execution_count": 20,
   "metadata": {},
   "outputs": [],
   "source": [
    "# clean data\n",
    "# drop street name, because of data shows postal district.\n",
    "# drop type of sale.\n",
    "# drop nett price, because of no relate data show in this portion.\n",
    "# drop type of area, because type of apartment/condo means strata type.\n",
    "\n",
    "df_ccr = df_ccr.drop(['street_name','type_of_sale','nett_price','type_of_area'], axis = 'columns')"
   ]
  },
  {
   "cell_type": "code",
   "execution_count": 21,
   "metadata": {
    "scrolled": false
   },
   "outputs": [
    {
     "data": {
      "text/html": [
       "<div>\n",
       "<style scoped>\n",
       "    .dataframe tbody tr th:only-of-type {\n",
       "        vertical-align: middle;\n",
       "    }\n",
       "\n",
       "    .dataframe tbody tr th {\n",
       "        vertical-align: top;\n",
       "    }\n",
       "\n",
       "    .dataframe thead th {\n",
       "        text-align: right;\n",
       "    }\n",
       "</style>\n",
       "<table border=\"1\" class=\"dataframe\">\n",
       "  <thead>\n",
       "    <tr style=\"text-align: right;\">\n",
       "      <th></th>\n",
       "      <th>project_name</th>\n",
       "      <th>type</th>\n",
       "      <th>postal_district</th>\n",
       "      <th>market_segment</th>\n",
       "      <th>tenure</th>\n",
       "      <th>no_of_units</th>\n",
       "      <th>price_in_sgd</th>\n",
       "      <th>area_sqft</th>\n",
       "      <th>floor_level</th>\n",
       "      <th>unit_price_psf</th>\n",
       "      <th>date_of_sale</th>\n",
       "    </tr>\n",
       "  </thead>\n",
       "  <tbody>\n",
       "    <tr>\n",
       "      <th>3977</th>\n",
       "      <td>BOULEVARD 88</td>\n",
       "      <td>Apartment</td>\n",
       "      <td>10</td>\n",
       "      <td>CCR</td>\n",
       "      <td>Freehold</td>\n",
       "      <td>1</td>\n",
       "      <td>31000000</td>\n",
       "      <td>6049</td>\n",
       "      <td>26 to 30</td>\n",
       "      <td>5125</td>\n",
       "      <td>Jun-19</td>\n",
       "    </tr>\n",
       "    <tr>\n",
       "      <th>4066</th>\n",
       "      <td>BOULEVARD 88</td>\n",
       "      <td>Apartment</td>\n",
       "      <td>10</td>\n",
       "      <td>CCR</td>\n",
       "      <td>Freehold</td>\n",
       "      <td>1</td>\n",
       "      <td>28000000</td>\n",
       "      <td>5673</td>\n",
       "      <td>26 to 30</td>\n",
       "      <td>4936</td>\n",
       "      <td>May-19</td>\n",
       "    </tr>\n",
       "    <tr>\n",
       "      <th>4404</th>\n",
       "      <td>BOULEVARD 88</td>\n",
       "      <td>Apartment</td>\n",
       "      <td>10</td>\n",
       "      <td>CCR</td>\n",
       "      <td>Freehold</td>\n",
       "      <td>1</td>\n",
       "      <td>28000000</td>\n",
       "      <td>5683</td>\n",
       "      <td>26 to 30</td>\n",
       "      <td>4927</td>\n",
       "      <td>Mar-19</td>\n",
       "    </tr>\n",
       "    <tr>\n",
       "      <th>4074</th>\n",
       "      <td>BOULEVARD VUE</td>\n",
       "      <td>Condominium</td>\n",
       "      <td>10</td>\n",
       "      <td>CCR</td>\n",
       "      <td>Freehold</td>\n",
       "      <td>1</td>\n",
       "      <td>21998000</td>\n",
       "      <td>4478</td>\n",
       "      <td>26 to 30</td>\n",
       "      <td>4913</td>\n",
       "      <td>May-19</td>\n",
       "    </tr>\n",
       "    <tr>\n",
       "      <th>4297</th>\n",
       "      <td>BOULEVARD 88</td>\n",
       "      <td>Apartment</td>\n",
       "      <td>10</td>\n",
       "      <td>CCR</td>\n",
       "      <td>Freehold</td>\n",
       "      <td>1</td>\n",
       "      <td>29530000</td>\n",
       "      <td>6028</td>\n",
       "      <td>26 to 30</td>\n",
       "      <td>4899</td>\n",
       "      <td>Apr-19</td>\n",
       "    </tr>\n",
       "  </tbody>\n",
       "</table>\n",
       "</div>"
      ],
      "text/plain": [
       "       project_name         type  postal_district market_segment    tenure  \\\n",
       "3977   BOULEVARD 88    Apartment               10            CCR  Freehold   \n",
       "4066   BOULEVARD 88    Apartment               10            CCR  Freehold   \n",
       "4404   BOULEVARD 88    Apartment               10            CCR  Freehold   \n",
       "4074  BOULEVARD VUE  Condominium               10            CCR  Freehold   \n",
       "4297   BOULEVARD 88    Apartment               10            CCR  Freehold   \n",
       "\n",
       "      no_of_units  price_in_sgd  area_sqft floor_level  unit_price_psf  \\\n",
       "3977            1      31000000       6049    26 to 30            5125   \n",
       "4066            1      28000000       5673    26 to 30            4936   \n",
       "4404            1      28000000       5683    26 to 30            4927   \n",
       "4074            1      21998000       4478    26 to 30            4913   \n",
       "4297            1      29530000       6028    26 to 30            4899   \n",
       "\n",
       "     date_of_sale  \n",
       "3977       Jun-19  \n",
       "4066       May-19  \n",
       "4404       Mar-19  \n",
       "4074       May-19  \n",
       "4297       Apr-19  "
      ]
     },
     "metadata": {},
     "output_type": "display_data"
    },
    {
     "data": {
      "text/html": [
       "<div>\n",
       "<style scoped>\n",
       "    .dataframe tbody tr th:only-of-type {\n",
       "        vertical-align: middle;\n",
       "    }\n",
       "\n",
       "    .dataframe tbody tr th {\n",
       "        vertical-align: top;\n",
       "    }\n",
       "\n",
       "    .dataframe thead th {\n",
       "        text-align: right;\n",
       "    }\n",
       "</style>\n",
       "<table border=\"1\" class=\"dataframe\">\n",
       "  <thead>\n",
       "    <tr style=\"text-align: right;\">\n",
       "      <th></th>\n",
       "      <th>project_name</th>\n",
       "      <th>type</th>\n",
       "      <th>postal_district</th>\n",
       "      <th>market_segment</th>\n",
       "      <th>tenure</th>\n",
       "      <th>no_of_units</th>\n",
       "      <th>price_in_sgd</th>\n",
       "      <th>area_sqft</th>\n",
       "      <th>floor_level</th>\n",
       "      <th>unit_price_psf</th>\n",
       "      <th>date_of_sale</th>\n",
       "    </tr>\n",
       "  </thead>\n",
       "  <tbody>\n",
       "    <tr>\n",
       "      <th>10799</th>\n",
       "      <td>PEACE CENTRE/MANSIONS</td>\n",
       "      <td>Apartment</td>\n",
       "      <td>9</td>\n",
       "      <td>CCR</td>\n",
       "      <td>99 yrs lease commencing from 1970</td>\n",
       "      <td>1</td>\n",
       "      <td>1320000</td>\n",
       "      <td>2605</td>\n",
       "      <td>11 to 15</td>\n",
       "      <td>507</td>\n",
       "      <td>Jan-17</td>\n",
       "    </tr>\n",
       "    <tr>\n",
       "      <th>12761</th>\n",
       "      <td>PEACE CENTRE/MANSIONS</td>\n",
       "      <td>Apartment</td>\n",
       "      <td>9</td>\n",
       "      <td>CCR</td>\n",
       "      <td>99 yrs lease commencing from 1970</td>\n",
       "      <td>1</td>\n",
       "      <td>1200000</td>\n",
       "      <td>2347</td>\n",
       "      <td>21 to 25</td>\n",
       "      <td>511</td>\n",
       "      <td>Mar-16</td>\n",
       "    </tr>\n",
       "    <tr>\n",
       "      <th>11203</th>\n",
       "      <td>PEACE CENTRE/MANSIONS</td>\n",
       "      <td>Apartment</td>\n",
       "      <td>9</td>\n",
       "      <td>CCR</td>\n",
       "      <td>99 yrs lease commencing from 1970</td>\n",
       "      <td>1</td>\n",
       "      <td>1250000</td>\n",
       "      <td>2347</td>\n",
       "      <td>16 to 20</td>\n",
       "      <td>533</td>\n",
       "      <td>Oct-16</td>\n",
       "    </tr>\n",
       "    <tr>\n",
       "      <th>1600</th>\n",
       "      <td>PEACE CENTRE/MANSIONS</td>\n",
       "      <td>Apartment</td>\n",
       "      <td>9</td>\n",
       "      <td>CCR</td>\n",
       "      <td>99 yrs lease commencing from 1970</td>\n",
       "      <td>1</td>\n",
       "      <td>1500000</td>\n",
       "      <td>2605</td>\n",
       "      <td>11 to 15</td>\n",
       "      <td>576</td>\n",
       "      <td>Jul-20</td>\n",
       "    </tr>\n",
       "    <tr>\n",
       "      <th>5382</th>\n",
       "      <td>PEACE CENTRE/MANSIONS</td>\n",
       "      <td>Apartment</td>\n",
       "      <td>9</td>\n",
       "      <td>CCR</td>\n",
       "      <td>99 yrs lease commencing from 1970</td>\n",
       "      <td>1</td>\n",
       "      <td>1500000</td>\n",
       "      <td>2605</td>\n",
       "      <td>11 to 15</td>\n",
       "      <td>576</td>\n",
       "      <td>Aug-18</td>\n",
       "    </tr>\n",
       "  </tbody>\n",
       "</table>\n",
       "</div>"
      ],
      "text/plain": [
       "                project_name       type  postal_district market_segment  \\\n",
       "10799  PEACE CENTRE/MANSIONS  Apartment                9            CCR   \n",
       "12761  PEACE CENTRE/MANSIONS  Apartment                9            CCR   \n",
       "11203  PEACE CENTRE/MANSIONS  Apartment                9            CCR   \n",
       "1600   PEACE CENTRE/MANSIONS  Apartment                9            CCR   \n",
       "5382   PEACE CENTRE/MANSIONS  Apartment                9            CCR   \n",
       "\n",
       "                                  tenure  no_of_units  price_in_sgd  \\\n",
       "10799  99 yrs lease commencing from 1970            1       1320000   \n",
       "12761  99 yrs lease commencing from 1970            1       1200000   \n",
       "11203  99 yrs lease commencing from 1970            1       1250000   \n",
       "1600   99 yrs lease commencing from 1970            1       1500000   \n",
       "5382   99 yrs lease commencing from 1970            1       1500000   \n",
       "\n",
       "       area_sqft floor_level  unit_price_psf date_of_sale  \n",
       "10799       2605    11 to 15             507       Jan-17  \n",
       "12761       2347    21 to 25             511       Mar-16  \n",
       "11203       2347    16 to 20             533       Oct-16  \n",
       "1600        2605    11 to 15             576       Jul-20  \n",
       "5382        2605    11 to 15             576       Aug-18  "
      ]
     },
     "metadata": {},
     "output_type": "display_data"
    }
   ],
   "source": [
    "highest_price = df_ccr.unit_price_psf.nlargest(5)\n",
    "highest_price = df_ccr.loc[highest_price.index,:]\n",
    "lowest_price = df_ccr.unit_price_psf.nsmallest(5)\n",
    "lowest_price = df_ccr.loc[lowest_price.index,:]\n",
    "display(highest_price, lowest_price)"
   ]
  },
  {
   "cell_type": "markdown",
   "metadata": {},
   "source": [
    "From the highest PSF, we can see that both the floor level and unit size are high, a conjunction is that these could be Penthouses in luxourious condos with extra anenities.\n",
    "On the cheapest PSF units, we quickly realise that the units are 99 years old with less than 50 years remaining. A very huge hint on the cheap prices."
   ]
  },
  {
   "cell_type": "markdown",
   "metadata": {},
   "source": [
    "## Challenge\n",
    "Absence on the date of TOP for the project as well as the relevant age of the property when sold each time. Common assumptions now are that property prices (especially for Tenure of 99years) will have an appreciating value accordance to time due to inflation, demand etc, until a point when the depreciating tenure cost exceeds the appreciation, resulting in the downward trend of the property, since the property value will be deemed as $0 after 99 years when tenure left = 0 years. \n",
    "\n",
    "Thus, the age of the property for 99 years tenure upon sales will be an criteria following the course of time. E.g. on the same street, 2 property will see a divergence in price appreciation over a specific year, but the reason could be that one is 10 years old turning 11 and the other is 35 years old turning 36.\n",
    "\n",
    "This challenge should be able to be overcome by doing research on the property name and adding 2 more columns on the data: “date of TOP” and “remaining lease”.\n"
   ]
  }
 ],
 "metadata": {
  "kernelspec": {
   "display_name": "Python 3",
   "language": "python",
   "name": "python3"
  },
  "language_info": {
   "codemirror_mode": {
    "name": "ipython",
    "version": 3
   },
   "file_extension": ".py",
   "mimetype": "text/x-python",
   "name": "python",
   "nbconvert_exporter": "python",
   "pygments_lexer": "ipython3",
   "version": "3.8.5"
  }
 },
 "nbformat": 4,
 "nbformat_minor": 4
}
